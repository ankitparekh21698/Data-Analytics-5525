{
 "cells": [
  {
   "cell_type": "markdown",
   "metadata": {
    "_uuid": "548e75879f981093569762f02653c53c7ec50ae5",
    "id": "HJCWb7jIiU3X"
   },
   "source": [
    "# <center> PCA and clustering\n",
    "\n",
    "  \n",
    "In this lesson, we will work with unsupervised learning methods such as Principal Component Analysis (PCA) and k-means clustering."
   ]
  },
  {
   "cell_type": "markdown",
   "metadata": {
    "_uuid": "338afd75e44c276e277f1297a6a37e91b2cab212",
    "id": "Caf_ReyliU3b"
   },
   "source": [
    "# <center>Samsung Human Activity Recognition\n",
    "\n",
    "In this task, we will work with the [Samsung Human Activity Recognition] (https://archive.ics.uci.edu/ml/datasets/Human+Activity+Recognition+Using+Smartphones) dataset. The data comes from the accelerometers and gyros of Samsung Galaxy S3 mobile phones ( you can find more info about the features using on the link above), the type of activity of a person with a phone in his pocket is also known - whether he walked, stood, lay, sat or walked up or down the stairs.\n",
    "\n",
    "We imagine that the type of activity is unknown to us, and we will try to cluster people purely on the basis of available features. "
   ]
  },
  {
   "cell_type": "code",
   "execution_count": null,
   "metadata": {
    "colab": {
     "base_uri": "https://localhost:8080/"
    },
    "id": "z1YVWSVJi67J",
    "outputId": "a9e708ec-0d8a-45b8-d266-6658c0f62df6"
   },
   "outputs": [
    {
     "name": "stdout",
     "output_type": "stream",
     "text": [
      "Mounted at /content/gdrive/\n"
     ]
    }
   ],
   "source": [
    "# Mounting google drive to read data\n",
    "from google.colab import drive\n",
    "drive.mount(\"/content/gdrive/\")"
   ]
  },
  {
   "cell_type": "code",
   "execution_count": null,
   "metadata": {
    "id": "2MKH9hPxiU3e"
   },
   "outputs": [],
   "source": [
    "import os\n",
    "import numpy as np\n",
    "\n",
    "filepath = \"/content/gdrive/My Drive/CS_5525_DA/Project 2/Project2/Experiment2\"\n",
    "X_train = np.loadtxt(os.path.join(filepath, \"samsung/\", \"samsung_train.txt\"))\n",
    "y_train = np.loadtxt(os.path.join(filepath, \"samsung/\",\n",
    "                                  \"samsung_train_labels.txt\")).astype(int)\n",
    "\n",
    "X_test = np.loadtxt(os.path.join(filepath, \"samsung/\", \"samsung_test.txt\"))\n",
    "y_test = np.loadtxt(os.path.join(filepath, \"samsung/\",\n",
    "                                  \"samsung_test_labels.txt\")).astype(int)"
   ]
  },
  {
   "cell_type": "code",
   "execution_count": null,
   "metadata": {
    "colab": {
     "base_uri": "https://localhost:8080/"
    },
    "id": "wfGEv9YViU3g",
    "outputId": "964d557f-6173-41ab-e7fa-817db561df7d"
   },
   "outputs": [
    {
     "name": "stdout",
     "output_type": "stream",
     "text": [
      "Number of classes are 6\n"
     ]
    }
   ],
   "source": [
    "X = np.vstack([X_train, X_test])\n",
    "y = np.hstack([y_train, y_test])\n",
    "n_classes = np.unique(y).size\n",
    "print (f\"Number of classes are {n_classes}\")"
   ]
  },
  {
   "cell_type": "markdown",
   "metadata": {
    "id": "hWMiwt0XiU3i"
   },
   "source": [
    "[These labels correspond to:](https://archive.ics.uci.edu/ml/machine-learning-databases/00240/UCI%20HAR%20Dataset.names)\n",
    "- 1 - walking\n",
    "- 2 - going up the stairs\n",
    "- 3 - going down the stairs\n",
    "- 4 - sitting\n",
    "- 5 - standing\n",
    "- 6 - lying down"
   ]
  },
  {
   "cell_type": "markdown",
   "metadata": {
    "id": "j0G9mgibiU3i"
   },
   "source": [
    "[](http://)Scale the sample using `StandardScaler` with default parameters."
   ]
  },
  {
   "cell_type": "code",
   "execution_count": null,
   "metadata": {
    "colab": {
     "base_uri": "https://localhost:8080/"
    },
    "id": "lLq8AVcHiU3k",
    "outputId": "0232a0e9-3785-44e1-95b5-a423d08c6fbd"
   },
   "outputs": [
    {
     "data": {
      "text/plain": [
       "(10299, 561)"
      ]
     },
     "execution_count": 4,
     "metadata": {},
     "output_type": "execute_result"
    }
   ],
   "source": [
    "from sklearn.preprocessing import StandardScaler\n",
    "scaler = StandardScaler()\n",
    "X_scaled = scaler.fit_transform(X)\n",
    "X_scaled.shape"
   ]
  },
  {
   "cell_type": "markdown",
   "metadata": {
    "id": "toAM1Kl5iU3l"
   },
   "source": [
    "There are 10299 instances with 561 features. We next reduce the number of dimensions using PCA, leaving only as many components as necessary to explain at least 90% of the variance of the original (scaled) data. "
   ]
  },
  {
   "cell_type": "code",
   "execution_count": null,
   "metadata": {
    "colab": {
     "base_uri": "https://localhost:8080/",
     "height": 286
    },
    "id": "vAFmBnfPiU3n",
    "outputId": "ee40851c-8038-4983-a037-35a9b4bb5155"
   },
   "outputs": [
    {
     "data": {
      "text/plain": [
       "(10299, 65)"
      ]
     },
     "execution_count": 5,
     "metadata": {},
     "output_type": "execute_result"
    },
    {
     "data": {
      "image/png": "[encoded data removed]",
      "text/plain": [
       "<Figure size 432x288 with 2 Axes>"
      ]
     },
     "metadata": {
      "needs_background": "light"
     },
     "output_type": "display_data"
    }
   ],
   "source": [
    "from sklearn.decomposition import PCA\n",
    "import matplotlib.pyplot as plt\n",
    "\n",
    "pca = PCA(n_components=0.9, random_state=10).fit(X_scaled)\n",
    "X_pca = pca.transform(X_scaled)\n",
    "plt.scatter(X_pca[:, 0], X_pca[:, 1], c=y, s=20, cmap='Set1');\n",
    "plt.colorbar()\n",
    "X_pca.shape"
   ]
  },
  {
   "cell_type": "markdown",
   "metadata": {
    "id": "AVLPiMzDiU3o"
   },
   "source": [
    "The above plot shows the visualization of the 6 classes using just the first two principal component features. After applying PCA, we are left with only 65 features that can explain at least 90% of variance in the original data. We will run Kmeans on this data with k = 6 (the number of clusters we expect to see in the data).\n"
   ]
  },
  {
   "cell_type": "code",
   "execution_count": null,
   "metadata": {
    "id": "TkKr2ko4iU3p"
   },
   "outputs": [],
   "source": [
    "from sklearn.cluster import KMeans\n",
    "kmeans = KMeans(n_clusters=6, n_init=100, \n",
    "                random_state=10)\n",
    "kmeans.fit(X_pca)\n",
    "cluster_labels = kmeans.labels_"
   ]
  },
  {
   "cell_type": "markdown",
   "metadata": {
    "id": "SZCa-fFAiU3q"
   },
   "source": [
    "Visualize the data in the projection on the first two main components. Color the dots according to the clusters received.\n",
    "\n"
   ]
  },
  {
   "cell_type": "code",
   "execution_count": null,
   "metadata": {
    "colab": {
     "base_uri": "https://localhost:8080/",
     "height": 286
    },
    "id": "OIZGaHi1iU3r",
    "outputId": "4488190c-fc48-48be-e9cb-c0e501503f79"
   },
   "outputs": [
    {
     "data": {
      "text/plain": [
       "<matplotlib.colorbar.Colorbar at 0x7f0a15cc35d0>"
      ]
     },
     "execution_count": 9,
     "metadata": {},
     "output_type": "execute_result"
    },
    {
     "data": {
      "image/png": "[encoded data removed]",
      "text/plain": [
       "<Figure size 432x288 with 2 Axes>"
      ]
     },
     "metadata": {
      "needs_background": "light"
     },
     "output_type": "display_data"
    }
   ],
   "source": [
    "plt.scatter(X_pca[:, 0], X_pca[:, 1], c=cluster_labels, s=20,cmap='Set1');\n",
    "plt.colorbar()"
   ]
  },
  {
   "cell_type": "markdown",
   "metadata": {
    "id": "eGMkg3dwiU3s"
   },
   "source": [
    "Look at the correspondence between the cluster labels and the original class labels and what kinds of class labels the KMeans algorithm has high confusion.\n",
    "\n"
   ]
  },
  {
   "cell_type": "code",
   "execution_count": null,
   "metadata": {
    "colab": {
     "base_uri": "https://localhost:8080/",
     "height": 269
    },
    "id": "Jvzv_fhsiU3t",
    "outputId": "ebc93df8-0134-4dca-f34b-42259de74f7f"
   },
   "outputs": [
    {
     "data": {
      "text/html": [
       "\n",
       "  <div id=\"df-1b309042-3db5-442d-bdce-3daad05ff981\">\n",
       "    <div class=\"colab-df-container\">\n",
       "      <div>\n",
       "<style scoped>\n",
       "    .dataframe tbody tr th:only-of-type {\n",
       "        vertical-align: middle;\n",
       "    }\n",
       "\n",
       "    .dataframe tbody tr th {\n",
       "        vertical-align: top;\n",
       "    }\n",
       "\n",
       "    .dataframe thead th {\n",
       "        text-align: right;\n",
       "    }\n",
       "</style>\n",
       "<table border=\"1\" class=\"dataframe\">\n",
       "  <thead>\n",
       "    <tr style=\"text-align: right;\">\n",
       "      <th></th>\n",
       "      <th>cluster1</th>\n",
       "      <th>cluster2</th>\n",
       "      <th>cluster3</th>\n",
       "      <th>cluster4</th>\n",
       "      <th>cluster5</th>\n",
       "      <th>cluster6</th>\n",
       "      <th>all</th>\n",
       "    </tr>\n",
       "  </thead>\n",
       "  <tbody>\n",
       "    <tr>\n",
       "      <th>walking</th>\n",
       "      <td>741</td>\n",
       "      <td>0</td>\n",
       "      <td>903</td>\n",
       "      <td>0</td>\n",
       "      <td>78</td>\n",
       "      <td>0</td>\n",
       "      <td>1722</td>\n",
       "    </tr>\n",
       "    <tr>\n",
       "      <th>going up the stairs</th>\n",
       "      <td>296</td>\n",
       "      <td>0</td>\n",
       "      <td>1241</td>\n",
       "      <td>2</td>\n",
       "      <td>5</td>\n",
       "      <td>0</td>\n",
       "      <td>1544</td>\n",
       "    </tr>\n",
       "    <tr>\n",
       "      <th>going down the stairs</th>\n",
       "      <td>890</td>\n",
       "      <td>0</td>\n",
       "      <td>320</td>\n",
       "      <td>0</td>\n",
       "      <td>196</td>\n",
       "      <td>0</td>\n",
       "      <td>1406</td>\n",
       "    </tr>\n",
       "    <tr>\n",
       "      <th>sitting</th>\n",
       "      <td>0</td>\n",
       "      <td>1235</td>\n",
       "      <td>1</td>\n",
       "      <td>450</td>\n",
       "      <td>0</td>\n",
       "      <td>91</td>\n",
       "      <td>1777</td>\n",
       "    </tr>\n",
       "    <tr>\n",
       "      <th>standing</th>\n",
       "      <td>0</td>\n",
       "      <td>1344</td>\n",
       "      <td>0</td>\n",
       "      <td>562</td>\n",
       "      <td>0</td>\n",
       "      <td>0</td>\n",
       "      <td>1906</td>\n",
       "    </tr>\n",
       "    <tr>\n",
       "      <th>lying</th>\n",
       "      <td>0</td>\n",
       "      <td>52</td>\n",
       "      <td>5</td>\n",
       "      <td>329</td>\n",
       "      <td>0</td>\n",
       "      <td>1558</td>\n",
       "      <td>1944</td>\n",
       "    </tr>\n",
       "    <tr>\n",
       "      <th>all</th>\n",
       "      <td>1927</td>\n",
       "      <td>2631</td>\n",
       "      <td>2470</td>\n",
       "      <td>1343</td>\n",
       "      <td>279</td>\n",
       "      <td>1649</td>\n",
       "      <td>10299</td>\n",
       "    </tr>\n",
       "  </tbody>\n",
       "</table>\n",
       "</div>\n",
       "      <button class=\"colab-df-convert\" onclick=\"convertToInteractive('df-1b309042-3db5-442d-bdce-3daad05ff981')\"\n",
       "              title=\"Convert this dataframe to an interactive table.\"\n",
       "              style=\"display:none;\">\n",
       "        \n",
       "  <svg xmlns=\"http://www.w3.org/2000/svg\" height=\"24px\"viewBox=\"0 0 24 24\"\n",
       "       width=\"24px\">\n",
       "    <path d=\"M0 0h24v24H0V0z\" fill=\"none\"/>\n",
       "    <path d=\"M18.56 5.44l.94 2.06.94-2.06 2.06-.94-2.06-.94-.94-2.06-.94 2.06-2.06.94zm-11 1L8.5 8.5l.94-2.06 2.06-.94-2.06-.94L8.5 2.5l-.94 2.06-2.06.94zm10 10l.94 2.06.94-2.06 2.06-.94-2.06-.94-.94-2.06-.94 2.06-2.06.94z\"/><path d=\"M17.41 7.96l-1.37-1.37c-.4-.4-.92-.59-1.43-.59-.52 0-1.04.2-1.43.59L10.3 9.45l-7.72 7.72c-.78.78-.78 2.05 0 2.83L4 21.41c.39.39.9.59 1.41.59.51 0 1.02-.2 1.41-.59l7.78-7.78 2.81-2.81c.8-.78.8-2.07 0-2.86zM5.41 20L4 18.59l7.72-7.72 1.47 1.35L5.41 20z\"/>\n",
       "  </svg>\n",
       "      </button>\n",
       "      \n",
       "  <style>\n",
       "    .colab-df-container {\n",
       "      display:flex;\n",
       "      flex-wrap:wrap;\n",
       "      gap: 12px;\n",
       "    }\n",
       "\n",
       "    .colab-df-convert {\n",
       "      background-color: #E8F0FE;\n",
       "      border: none;\n",
       "      border-radius: 50%;\n",
       "      cursor: pointer;\n",
       "      display: none;\n",
       "      fill: #1967D2;\n",
       "      height: 32px;\n",
       "      padding: 0 0 0 0;\n",
       "      width: 32px;\n",
       "    }\n",
       "\n",
       "    .colab-df-convert:hover {\n",
       "      background-color: #E2EBFA;\n",
       "      box-shadow: 0px 1px 2px rgba(60, 64, 67, 0.3), 0px 1px 3px 1px rgba(60, 64, 67, 0.15);\n",
       "      fill: #174EA6;\n",
       "    }\n",
       "\n",
       "    [theme=dark] .colab-df-convert {\n",
       "      background-color: #3B4455;\n",
       "      fill: #D2E3FC;\n",
       "    }\n",
       "\n",
       "    [theme=dark] .colab-df-convert:hover {\n",
       "      background-color: #434B5C;\n",
       "      box-shadow: 0px 1px 3px 1px rgba(0, 0, 0, 0.15);\n",
       "      filter: drop-shadow(0px 1px 2px rgba(0, 0, 0, 0.3));\n",
       "      fill: #FFFFFF;\n",
       "    }\n",
       "  </style>\n",
       "\n",
       "      <script>\n",
       "        const buttonEl =\n",
       "          document.querySelector('#df-1b309042-3db5-442d-bdce-3daad05ff981 button.colab-df-convert');\n",
       "        buttonEl.style.display =\n",
       "          google.colab.kernel.accessAllowed ? 'block' : 'none';\n",
       "\n",
       "        async function convertToInteractive(key) {\n",
       "          const element = document.querySelector('#df-1b309042-3db5-442d-bdce-3daad05ff981');\n",
       "          const dataTable =\n",
       "            await google.colab.kernel.invokeFunction('convertToInteractive',\n",
       "                                                     [key], {});\n",
       "          if (!dataTable) return;\n",
       "\n",
       "          const docLinkHtml = 'Like what you see? Visit the ' +\n",
       "            '<a target=\"_blank\" href=https://colab.research.google.com/notebooks/data_table.ipynb>data table notebook</a>'\n",
       "            + ' to learn more about interactive tables.';\n",
       "          element.innerHTML = '';\n",
       "          dataTable['output_type'] = 'display_data';\n",
       "          await google.colab.output.renderOutput(dataTable, element);\n",
       "          const docLink = document.createElement('div');\n",
       "          docLink.innerHTML = docLinkHtml;\n",
       "          element.appendChild(docLink);\n",
       "        }\n",
       "      </script>\n",
       "    </div>\n",
       "  </div>\n",
       "  "
      ],
      "text/plain": [
       "                       cluster1  cluster2  cluster3  cluster4  cluster5  \\\n",
       "walking                     741         0       903         0        78   \n",
       "going up the stairs         296         0      1241         2         5   \n",
       "going down the stairs       890         0       320         0       196   \n",
       "sitting                       0      1235         1       450         0   \n",
       "standing                      0      1344         0       562         0   \n",
       "lying                         0        52         5       329         0   \n",
       "all                        1927      2631      2470      1343       279   \n",
       "\n",
       "                       cluster6    all  \n",
       "walking                       0   1722  \n",
       "going up the stairs           0   1544  \n",
       "going down the stairs         0   1406  \n",
       "sitting                      91   1777  \n",
       "standing                      0   1906  \n",
       "lying                      1558   1944  \n",
       "all                        1649  10299  "
      ]
     },
     "execution_count": 11,
     "metadata": {},
     "output_type": "execute_result"
    }
   ],
   "source": [
    "import pandas as pd\n",
    "\n",
    "tab = pd.crosstab(y, cluster_labels, margins=True)\n",
    "tab.index = ['walking', 'going up the stairs',\n",
    "            'going down the stairs', 'sitting', 'standing', 'lying', 'all']\n",
    "tab.columns = ['cluster' + str(i + 1) for i in range(6)] + ['all']\n",
    "tab"
   ]
  },
  {
   "cell_type": "code",
   "execution_count": null,
   "metadata": {
    "colab": {
     "base_uri": "https://localhost:8080/"
    },
    "id": "hKlO6h-5kWkC",
    "outputId": "50c733bd-56f4-45d0-eb27-71d9265fb17f"
   },
   "outputs": [
    {
     "name": "stdout",
     "output_type": "stream",
     "text": [
      "Purity of Cluster 1 is 0.4618578100674624\n",
      "Purity of Cluster 2 is 0.5108323831242874\n",
      "Purity of Cluster 3 is 0.5024291497975708\n",
      "Purity of Cluster 4 is 0.4184661206254654\n",
      "Purity of Cluster 5 is 0.7025089605734767\n",
      "Purity of Cluster 6 is 0.944815039417829\n"
     ]
    }
   ],
   "source": [
    "p_cluster1 = max(tab['cluster1'].values[:-1])/max(tab['cluster1'])\n",
    "p_cluster2 = max(tab['cluster2'].values[:-1])/max(tab['cluster2'])\n",
    "p_cluster3 = max(tab['cluster3'].values[:-1])/max(tab['cluster3'])\n",
    "p_cluster4 = max(tab['cluster4'].values[:-1])/max(tab['cluster4'])\n",
    "p_cluster5 = max(tab['cluster5'].values[:-1])/max(tab['cluster5'])\n",
    "p_cluster6 = max(tab['cluster6'].values[:-1])/max(tab['cluster6'])\n",
    "print(f\"Purity of Cluster 1 is {p_cluster1}\")\n",
    "print(f\"Purity of Cluster 2 is {p_cluster2}\")\n",
    "print(f\"Purity of Cluster 3 is {p_cluster3}\")\n",
    "print(f\"Purity of Cluster 4 is {p_cluster4}\")\n",
    "print(f\"Purity of Cluster 5 is {p_cluster5}\")\n",
    "print(f\"Purity of Cluster 6 is {p_cluster6}\")"
   ]
  },
  {
   "cell_type": "code",
   "execution_count": null,
   "metadata": {
    "id": "8LeduWmekYCT"
   },
   "outputs": [],
   "source": [
    "from sklearn.cluster import KMeans\n",
    "kmeans = KMeans(n_clusters=10, n_init=100, \n",
    "                random_state=10)\n",
    "kmeans.fit(X_pca)\n",
    "cluster_labels = kmeans.labels_"
   ]
  },
  {
   "cell_type": "code",
   "execution_count": null,
   "metadata": {
    "colab": {
     "base_uri": "https://localhost:8080/",
     "height": 269
    },
    "id": "qVR-0Mp0kgq5",
    "outputId": "2147866f-829d-4912-f2a0-ecff61e4e1c7"
   },
   "outputs": [
    {
     "data": {
      "text/html": [
       "\n",
       "  <div id=\"df-911bec90-fcd4-4720-8bf1-80a1002407a4\">\n",
       "    <div class=\"colab-df-container\">\n",
       "      <div>\n",
       "<style scoped>\n",
       "    .dataframe tbody tr th:only-of-type {\n",
       "        vertical-align: middle;\n",
       "    }\n",
       "\n",
       "    .dataframe tbody tr th {\n",
       "        vertical-align: top;\n",
       "    }\n",
       "\n",
       "    .dataframe thead th {\n",
       "        text-align: right;\n",
       "    }\n",
       "</style>\n",
       "<table border=\"1\" class=\"dataframe\">\n",
       "  <thead>\n",
       "    <tr style=\"text-align: right;\">\n",
       "      <th></th>\n",
       "      <th>cluster1</th>\n",
       "      <th>cluster2</th>\n",
       "      <th>cluster3</th>\n",
       "      <th>cluster4</th>\n",
       "      <th>cluster5</th>\n",
       "      <th>cluster6</th>\n",
       "      <th>cluster7</th>\n",
       "      <th>cluster8</th>\n",
       "      <th>cluster9</th>\n",
       "      <th>cluster10</th>\n",
       "      <th>all</th>\n",
       "    </tr>\n",
       "  </thead>\n",
       "  <tbody>\n",
       "    <tr>\n",
       "      <th>walking</th>\n",
       "      <td>0</td>\n",
       "      <td>11</td>\n",
       "      <td>141</td>\n",
       "      <td>0</td>\n",
       "      <td>918</td>\n",
       "      <td>378</td>\n",
       "      <td>0</td>\n",
       "      <td>195</td>\n",
       "      <td>0</td>\n",
       "      <td>79</td>\n",
       "      <td>1722</td>\n",
       "    </tr>\n",
       "    <tr>\n",
       "      <th>going up the stairs</th>\n",
       "      <td>0</td>\n",
       "      <td>0</td>\n",
       "      <td>63</td>\n",
       "      <td>0</td>\n",
       "      <td>153</td>\n",
       "      <td>1018</td>\n",
       "      <td>0</td>\n",
       "      <td>17</td>\n",
       "      <td>0</td>\n",
       "      <td>293</td>\n",
       "      <td>1544</td>\n",
       "    </tr>\n",
       "    <tr>\n",
       "      <th>going down the stairs</th>\n",
       "      <td>0</td>\n",
       "      <td>79</td>\n",
       "      <td>644</td>\n",
       "      <td>0</td>\n",
       "      <td>318</td>\n",
       "      <td>196</td>\n",
       "      <td>0</td>\n",
       "      <td>152</td>\n",
       "      <td>0</td>\n",
       "      <td>17</td>\n",
       "      <td>1406</td>\n",
       "    </tr>\n",
       "    <tr>\n",
       "      <th>sitting</th>\n",
       "      <td>88</td>\n",
       "      <td>0</td>\n",
       "      <td>0</td>\n",
       "      <td>70</td>\n",
       "      <td>0</td>\n",
       "      <td>1</td>\n",
       "      <td>1043</td>\n",
       "      <td>0</td>\n",
       "      <td>575</td>\n",
       "      <td>0</td>\n",
       "      <td>1777</td>\n",
       "    </tr>\n",
       "    <tr>\n",
       "      <th>standing</th>\n",
       "      <td>32</td>\n",
       "      <td>0</td>\n",
       "      <td>0</td>\n",
       "      <td>0</td>\n",
       "      <td>0</td>\n",
       "      <td>0</td>\n",
       "      <td>953</td>\n",
       "      <td>0</td>\n",
       "      <td>921</td>\n",
       "      <td>0</td>\n",
       "      <td>1906</td>\n",
       "    </tr>\n",
       "    <tr>\n",
       "      <th>lying</th>\n",
       "      <td>158</td>\n",
       "      <td>0</td>\n",
       "      <td>0</td>\n",
       "      <td>1592</td>\n",
       "      <td>0</td>\n",
       "      <td>2</td>\n",
       "      <td>47</td>\n",
       "      <td>0</td>\n",
       "      <td>145</td>\n",
       "      <td>0</td>\n",
       "      <td>1944</td>\n",
       "    </tr>\n",
       "    <tr>\n",
       "      <th>all</th>\n",
       "      <td>278</td>\n",
       "      <td>90</td>\n",
       "      <td>848</td>\n",
       "      <td>1662</td>\n",
       "      <td>1389</td>\n",
       "      <td>1595</td>\n",
       "      <td>2043</td>\n",
       "      <td>364</td>\n",
       "      <td>1641</td>\n",
       "      <td>389</td>\n",
       "      <td>10299</td>\n",
       "    </tr>\n",
       "  </tbody>\n",
       "</table>\n",
       "</div>\n",
       "      <button class=\"colab-df-convert\" onclick=\"convertToInteractive('df-911bec90-fcd4-4720-8bf1-80a1002407a4')\"\n",
       "              title=\"Convert this dataframe to an interactive table.\"\n",
       "              style=\"display:none;\">\n",
       "        \n",
       "  <svg xmlns=\"http://www.w3.org/2000/svg\" height=\"24px\"viewBox=\"0 0 24 24\"\n",
       "       width=\"24px\">\n",
       "    <path d=\"M0 0h24v24H0V0z\" fill=\"none\"/>\n",
       "    <path d=\"M18.56 5.44l.94 2.06.94-2.06 2.06-.94-2.06-.94-.94-2.06-.94 2.06-2.06.94zm-11 1L8.5 8.5l.94-2.06 2.06-.94-2.06-.94L8.5 2.5l-.94 2.06-2.06.94zm10 10l.94 2.06.94-2.06 2.06-.94-2.06-.94-.94-2.06-.94 2.06-2.06.94z\"/><path d=\"M17.41 7.96l-1.37-1.37c-.4-.4-.92-.59-1.43-.59-.52 0-1.04.2-1.43.59L10.3 9.45l-7.72 7.72c-.78.78-.78 2.05 0 2.83L4 21.41c.39.39.9.59 1.41.59.51 0 1.02-.2 1.41-.59l7.78-7.78 2.81-2.81c.8-.78.8-2.07 0-2.86zM5.41 20L4 18.59l7.72-7.72 1.47 1.35L5.41 20z\"/>\n",
       "  </svg>\n",
       "      </button>\n",
       "      \n",
       "  <style>\n",
       "    .colab-df-container {\n",
       "      display:flex;\n",
       "      flex-wrap:wrap;\n",
       "      gap: 12px;\n",
       "    }\n",
       "\n",
       "    .colab-df-convert {\n",
       "      background-color: #E8F0FE;\n",
       "      border: none;\n",
       "      border-radius: 50%;\n",
       "      cursor: pointer;\n",
       "      display: none;\n",
       "      fill: #1967D2;\n",
       "      height: 32px;\n",
       "      padding: 0 0 0 0;\n",
       "      width: 32px;\n",
       "    }\n",
       "\n",
       "    .colab-df-convert:hover {\n",
       "      background-color: #E2EBFA;\n",
       "      box-shadow: 0px 1px 2px rgba(60, 64, 67, 0.3), 0px 1px 3px 1px rgba(60, 64, 67, 0.15);\n",
       "      fill: #174EA6;\n",
       "    }\n",
       "\n",
       "    [theme=dark] .colab-df-convert {\n",
       "      background-color: #3B4455;\n",
       "      fill: #D2E3FC;\n",
       "    }\n",
       "\n",
       "    [theme=dark] .colab-df-convert:hover {\n",
       "      background-color: #434B5C;\n",
       "      box-shadow: 0px 1px 3px 1px rgba(0, 0, 0, 0.15);\n",
       "      filter: drop-shadow(0px 1px 2px rgba(0, 0, 0, 0.3));\n",
       "      fill: #FFFFFF;\n",
       "    }\n",
       "  </style>\n",
       "\n",
       "      <script>\n",
       "        const buttonEl =\n",
       "          document.querySelector('#df-911bec90-fcd4-4720-8bf1-80a1002407a4 button.colab-df-convert');\n",
       "        buttonEl.style.display =\n",
       "          google.colab.kernel.accessAllowed ? 'block' : 'none';\n",
       "\n",
       "        async function convertToInteractive(key) {\n",
       "          const element = document.querySelector('#df-911bec90-fcd4-4720-8bf1-80a1002407a4');\n",
       "          const dataTable =\n",
       "            await google.colab.kernel.invokeFunction('convertToInteractive',\n",
       "                                                     [key], {});\n",
       "          if (!dataTable) return;\n",
       "\n",
       "          const docLinkHtml = 'Like what you see? Visit the ' +\n",
       "            '<a target=\"_blank\" href=https://colab.research.google.com/notebooks/data_table.ipynb>data table notebook</a>'\n",
       "            + ' to learn more about interactive tables.';\n",
       "          element.innerHTML = '';\n",
       "          dataTable['output_type'] = 'display_data';\n",
       "          await google.colab.output.renderOutput(dataTable, element);\n",
       "          const docLink = document.createElement('div');\n",
       "          docLink.innerHTML = docLinkHtml;\n",
       "          element.appendChild(docLink);\n",
       "        }\n",
       "      </script>\n",
       "    </div>\n",
       "  </div>\n",
       "  "
      ],
      "text/plain": [
       "                       cluster1  cluster2  cluster3  cluster4  cluster5  \\\n",
       "walking                       0        11       141         0       918   \n",
       "going up the stairs           0         0        63         0       153   \n",
       "going down the stairs         0        79       644         0       318   \n",
       "sitting                      88         0         0        70         0   \n",
       "standing                     32         0         0         0         0   \n",
       "lying                       158         0         0      1592         0   \n",
       "all                         278        90       848      1662      1389   \n",
       "\n",
       "                       cluster6  cluster7  cluster8  cluster9  cluster10  \\\n",
       "walking                     378         0       195         0         79   \n",
       "going up the stairs        1018         0        17         0        293   \n",
       "going down the stairs       196         0       152         0         17   \n",
       "sitting                       1      1043         0       575          0   \n",
       "standing                      0       953         0       921          0   \n",
       "lying                         2        47         0       145          0   \n",
       "all                        1595      2043       364      1641        389   \n",
       "\n",
       "                         all  \n",
       "walking                 1722  \n",
       "going up the stairs     1544  \n",
       "going down the stairs   1406  \n",
       "sitting                 1777  \n",
       "standing                1906  \n",
       "lying                   1944  \n",
       "all                    10299  "
      ]
     },
     "execution_count": 15,
     "metadata": {},
     "output_type": "execute_result"
    }
   ],
   "source": [
    "import pandas as pd\n",
    "\n",
    "tab = pd.crosstab(y, cluster_labels, margins=True)\n",
    "tab.index = ['walking', 'going up the stairs',\n",
    "            'going down the stairs', 'sitting', 'standing', 'lying', 'all']\n",
    "tab.columns = ['cluster' + str(i + 1) for i in range(10)] + ['all']\n",
    "tab"
   ]
  },
  {
   "cell_type": "code",
   "execution_count": null,
   "metadata": {
    "colab": {
     "base_uri": "https://localhost:8080/"
    },
    "id": "MXzKZphjkhmN",
    "outputId": "e07e2330-da53-47b1-a0da-4c20a209de15"
   },
   "outputs": [
    {
     "name": "stdout",
     "output_type": "stream",
     "text": [
      "Purity of Cluster 1 is 0.5683453237410072\n",
      "Purity of Cluster 2 is 0.8777777777777778\n",
      "Purity of Cluster 3 is 0.7594339622641509\n",
      "Purity of Cluster 4 is 0.9578820697954272\n",
      "Purity of Cluster 5 is 0.6609071274298056\n",
      "Purity of Cluster 6 is 0.6382445141065831\n",
      "Purity of Cluster 7 is 0.5105237395986295\n",
      "Purity of Cluster 8 is 0.5357142857142857\n",
      "Purity of Cluster 9 is 0.5612431444241316\n",
      "Purity of Cluster 10 is 0.7532133676092545\n"
     ]
    }
   ],
   "source": [
    "p_cluster1 = max(tab['cluster1'].values[:-1])/max(tab['cluster1'])\n",
    "p_cluster2 = max(tab['cluster2'].values[:-1])/max(tab['cluster2'])\n",
    "p_cluster3 = max(tab['cluster3'].values[:-1])/max(tab['cluster3'])\n",
    "p_cluster4 = max(tab['cluster4'].values[:-1])/max(tab['cluster4'])\n",
    "p_cluster5 = max(tab['cluster5'].values[:-1])/max(tab['cluster5'])\n",
    "p_cluster6 = max(tab['cluster6'].values[:-1])/max(tab['cluster6'])\n",
    "p_cluster7 = max(tab['cluster7'].values[:-1])/max(tab['cluster7'])\n",
    "p_cluster8 = max(tab['cluster8'].values[:-1])/max(tab['cluster8'])\n",
    "p_cluster9 = max(tab['cluster9'].values[:-1])/max(tab['cluster9'])\n",
    "p_cluster10 = max(tab['cluster10'].values[:-1])/max(tab['cluster10'])\n",
    "print(f\"Purity of Cluster 1 is {p_cluster1}\")\n",
    "print(f\"Purity of Cluster 2 is {p_cluster2}\")\n",
    "print(f\"Purity of Cluster 3 is {p_cluster3}\")\n",
    "print(f\"Purity of Cluster 4 is {p_cluster4}\")\n",
    "print(f\"Purity of Cluster 5 is {p_cluster5}\")\n",
    "print(f\"Purity of Cluster 6 is {p_cluster6}\")\n",
    "print(f\"Purity of Cluster 7 is {p_cluster7}\")\n",
    "print(f\"Purity of Cluster 8 is {p_cluster8}\")\n",
    "print(f\"Purity of Cluster 9 is {p_cluster9}\")\n",
    "print(f\"Purity of Cluster 10 is {p_cluster10}\")"
   ]
  },
  {
   "cell_type": "markdown",
   "metadata": {
    "id": "NzdO5FsBiU3t"
   },
   "source": [
    "This notebook is adaption from the following kaggle notebook https://www.kaggle.com/kashnitsky/topic-7-unsupervised-learning-pca-and-clustering and https://www.kaggle.com/kashnitsky/a7-demo-unsupervised-learning-solution"
   ]
  },
  {
   "cell_type": "code",
   "execution_count": null,
   "metadata": {
    "id": "qqSbc6KPiU3u"
   },
   "outputs": [],
   "source": []
  }
 ],
 "metadata": {
  "colab": {
   "provenance": []
  },
  "kernelspec": {
   "display_name": "Python 3 (ipykernel)",
   "language": "python",
   "name": "python3"
  },
  "language_info": {
   "codemirror_mode": {
    "name": "ipython",
    "version": 3
   },
   "file_extension": ".py",
   "mimetype": "text/x-python",
   "name": "python",
   "nbconvert_exporter": "python",
   "pygments_lexer": "ipython3",
   "version": "3.9.12"
  }
 },
 "nbformat": 4,
 "nbformat_minor": 1
}
